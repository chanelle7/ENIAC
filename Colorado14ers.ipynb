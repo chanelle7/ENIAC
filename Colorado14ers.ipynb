{
 "cells": [
  {
   "cell_type": "code",
   "execution_count": 1,
   "metadata": {},
   "outputs": [],
   "source": [
    "import pandas as pd\n",
    "import numpy as np\n",
    "import seaborn as sns\n",
    "import mountains\n",
    "import matplotlib.pyplot as plt\n",
    "plt.style.use('ggplot')\n",
    "pd.set_option('display.max_columns', None)\n",
    "pd.set_option('display.max_rows', None)\n",
    "mountain_detail, routes, weather_data = mountains.call_data()"
   ]
  },
  {
   "cell_type": "code",
   "execution_count": 75,
   "metadata": {},
   "outputs": [],
   "source": [
    "def to_mountainrte(rte):\n",
    "    route = []\n",
    "    for key,value in rte.items():\n",
    "        for v in value:\n",
    "            route.append([key] + list(v))\n",
    "    return pd.DataFrame(route)\n",
    "\n",
    "def to_mountainwea(wea):\n",
    "    weather = []\n",
    "    for key,value in wea.items():\n",
    "        for v in value:\n",
    "            weather.append([key] + list(v))\n",
    "    return pd.DataFrame(weather)\n"
   ]
  },
  {
   "cell_type": "code",
   "execution_count": 114,
   "metadata": {},
   "outputs": [],
   "source": [
    "fin_routes = to_mountainrte(routes)\n",
    "fin_routes.columns = ['Mountain','Route','Class',\n",
    "                     'Snow','ElevationGain','RTMileage']\n",
    "fin_routes[[\"ElevationGain\",\"RTMileage\"]] = fin_routes[[\"ElevationGain\",\"RTMileage\"]].apply(pd.to_numeric)"
   ]
  },
  {
   "cell_type": "code",
   "execution_count": 77,
   "metadata": {},
   "outputs": [],
   "source": [
    "fin_weather = to_mountainwea(weather_data)\n",
    "fin_weather.columns = ['Mountain','Date','Temp',\n",
    "                     'WindLow','WindHigh','Description']\n",
    "fin_weather[[\"Temp\",\"WindLow\",\"WindLow\",\"WindHigh\"]] =\\\n",
    "fin_weather[[\"Temp\",\"WindLow\",\"WindLow\",\"WindHigh\"]].apply(pd.to_numeric)"
   ]
  },
  {
   "cell_type": "code",
   "execution_count": 115,
   "metadata": {},
   "outputs": [],
   "source": [
    "\n",
    "fin_mountain = pd.DataFrame.from_dict(mountain_detail).T\n",
    "fin_mountain.index.name = 'Mountain'\n",
    "fin_mountain.columns = ['Elevation','Rank',\n",
    "                     'Range']\n",
    "fin_mountain.reset_index(level=0, inplace=True)"
   ]
  },
  {
   "cell_type": "code",
   "execution_count": 116,
   "metadata": {
    "scrolled": false
   },
   "outputs": [],
   "source": [
    "# How many mountains are in each class \n",
    "# Is gain related to class\n",
    "routes_class = fin_routes.groupby('Class').agg({'ElevationGain': \\\n",
    "    ['min', 'max','median','mean','std'],'RTMileage': ['min', 'max','median','mean','std'], 'Mountain':['nunique']})"
   ]
  },
  {
   "cell_type": "code",
   "execution_count": 113,
   "metadata": {},
   "outputs": [],
   "source": [
    "# What is the longest/shortest/avg route\n",
    "routes_insight = fin_routes.groupby('Route').agg({'ElevationGain': ['min', 'max'],'RTMileage': ['min', 'max'],\\\n",
    "                                                  'Mountain':['nunique']})"
   ]
  },
  {
   "cell_type": "code",
   "execution_count": 117,
   "metadata": {},
   "outputs": [],
   "source": [
    "# How many mountains still have snowpack - and what class are they\n",
    "snow_routes = pd.DataFrame(fin_routes[fin_routes.Snow != ' '])"
   ]
  },
  {
   "cell_type": "code",
   "execution_count": 120,
   "metadata": {},
   "outputs": [],
   "source": [
    "# Which range is the easiest to knock out (lowest avg elevation gain)\n",
    "elevation = fin_routes.groupby('Mountain') \\\n",
    ".agg({'ElevationGain': ['min', 'max','median','mean','std','sum'], 'Route': ['count']}).round(2)"
   ]
  },
  {
   "cell_type": "code",
   "execution_count": 127,
   "metadata": {},
   "outputs": [],
   "source": [
    "range_weather = fin_mountain.merge(fin_weather,left_on='Mountain',right_on='Mountain')\n",
    "agg_weather = fin_weather.groupby('Date').agg({'Temp': ['min', 'max','median','mean','std'], \\\n",
    "                                               'WindHigh': ['min', 'max','median','mean','std']})\n",
    "range_weather[[\"Temp\",\"WindLow\",\"WindLow\",\"WindHigh\",\"Rank\",\"Elevation\"]] = range_weather[[\"Temp\",\\\n",
    "                \"WindLow\",\"WindLow\",\"WindHigh\",\"Rank\",\"Elevation\"]].apply(pd.to_numeric)\n",
    "\n",
    "range_weather_insights =range_weather.groupby('Range').agg({'Elevation':['min', 'max','median','mean','std'], \\\n",
    "            'Rank':['min', 'max','median','mean','std'],'Temp':['min', 'max','median','mean','std'],\\\n",
    "                                    'WindHigh':['min', 'max','median','mean','std'],'Mountain':['nunique']})"
   ]
  },
  {
   "cell_type": "code",
   "execution_count": 144,
   "metadata": {},
   "outputs": [
    {
     "data": {
      "text/plain": [
       "<matplotlib.axes._subplots.AxesSubplot at 0x1a204ce400>"
      ]
     },
     "execution_count": 144,
     "metadata": {},
     "output_type": "execute_result"
    },
    {
     "data": {
      "image/png": "[encoded data removed]",
      "text/plain": [
       "<Figure size 432x288 with 1 Axes>"
      ]
     },
     "metadata": {},
     "output_type": "display_data"
    }
   ],
   "source": [
    "import seaborn as sns\n",
    "sns.set()\n",
    "routes_class\n",
    "sns.barplot(x=routes_class.index, y=\"median\", data=routes_class['ElevationGain'])\n",
    "#routes_insight\n",
    "#snow_routes\n",
    "    #snow_routes.groupby('Mountain').agg({'Snow': ['count']})\n",
    "    #snow_routes.groupby('Route').agg({'Snow': ['count']})\n",
    "#elevation\n",
    "    #elevation.ElevationGain.sort_values(by='min')\n",
    "    #elevation.ElevationGain.sort_values(by='max')\n",
    "    #elevation.ElevationGain.sort_values(by='median')\n",
    "#agg_weather\n",
    "    #agg_weather['Temp']\n",
    "    #agg_weather['WindHigh']\n",
    "#range_weather_insights\n",
    "#fin_mountain\n",
    "#fin_routes\n",
    "#fin_weather\n"
   ]
  },
  {
   "cell_type": "code",
   "execution_count": null,
   "metadata": {},
   "outputs": [],
   "source": []
  }
 ],
 "metadata": {
  "kernelspec": {
   "display_name": "Python 3",
   "language": "python",
   "name": "python3"
  },
  "language_info": {
   "codemirror_mode": {
    "name": "ipython",
    "version": 3
   },
   "file_extension": ".py",
   "mimetype": "text/x-python",
   "name": "python",
   "nbconvert_exporter": "python",
   "pygments_lexer": "ipython3",
   "version": "3.7.3"
  }
 },
 "nbformat": 4,
 "nbformat_minor": 2
}
